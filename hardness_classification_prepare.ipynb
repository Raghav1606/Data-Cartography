{
 "cells": [
  {
   "cell_type": "markdown",
   "metadata": {},
   "source": [
    "# hardness classification\n",
    "- use 'data_selection.py' set `-proportion 0.5` to split all samples into easy and hard.\n",
    "- then read the outputted 'three_regions_data_indices.json' to get their indices"
   ]
  },
  {
   "cell_type": "code",
   "execution_count": 1,
   "metadata": {},
   "outputs": [],
   "source": [
    "import json\n",
    "dataset_name = 'sst2'\n",
    "with open(f'dy_log/{dataset_name}/bert-base-cased/three_regions_data_indices.json' ,'r') as f:\n",
    "    d = json.loads(f.read())"
   ]
  },
  {
   "cell_type": "code",
   "execution_count": 2,
   "metadata": {},
   "outputs": [
    {
     "name": "stdout",
     "output_type": "stream",
     "text": [
      "33674 33674\n"
     ]
    }
   ],
   "source": [
    "print(len(d['hard']), len(d['easy']))\n",
    "assert len(set(d['hard']).intersection(set(d['easy']))) == 0"
   ]
  },
  {
   "cell_type": "code",
   "execution_count": 3,
   "metadata": {},
   "outputs": [
    {
     "name": "stderr",
     "output_type": "stream",
     "text": [
      "Reusing dataset glue (/home/v-biyangguo/.cache/huggingface/datasets/glue/sst2/1.0.0/dacbe3125aa31d7f70367a07a8a9e72a5a0bfeb5fc42e75c9db75b96da6053ad)\n"
     ]
    },
    {
     "data": {
      "application/vnd.jupyter.widget-view+json": {
       "model_id": "db48192d641e4552bfadf4d7404c68c3",
       "version_major": 2,
       "version_minor": 0
      },
      "text/plain": [
       "  0%|          | 0/3 [00:00<?, ?it/s]"
      ]
     },
     "metadata": {},
     "output_type": "display_data"
    }
   ],
   "source": [
    "import datasets\n",
    "from datasets import load_dataset\n",
    "data = load_dataset('glue',dataset_name)"
   ]
  },
  {
   "cell_type": "code",
   "execution_count": 4,
   "metadata": {},
   "outputs": [],
   "source": [
    "easy_data = data['train'].select(d['easy'])\n",
    "hard_data = data['train'].select(d['hard'])"
   ]
  },
  {
   "cell_type": "code",
   "execution_count": 5,
   "metadata": {},
   "outputs": [
    {
     "data": {
      "application/vnd.jupyter.widget-view+json": {
       "model_id": "a6bf20ded5684a05859ec3f574323c93",
       "version_major": 2,
       "version_minor": 0
      },
      "text/plain": [
       "Flattening the indices:   0%|          | 0/53 [00:00<?, ?ba/s]"
      ]
     },
     "metadata": {},
     "output_type": "display_data"
    },
    {
     "data": {
      "application/vnd.jupyter.widget-view+json": {
       "model_id": "55fbeeae9fe24bf3b33735038e55b337",
       "version_major": 2,
       "version_minor": 0
      },
      "text/plain": [
       "Flattening the indices:   0%|          | 0/53 [00:00<?, ?ba/s]"
      ]
     },
     "metadata": {},
     "output_type": "display_data"
    },
    {
     "name": "stdout",
     "output_type": "stream",
     "text": [
      "{0} {1}\n"
     ]
    }
   ],
   "source": [
    "easy_data = easy_data.remove_columns(['label'])\n",
    "easy_data = easy_data.add_column('label', [0]*len(easy_data))\n",
    "\n",
    "hard_data = hard_data.remove_columns(['label'])\n",
    "hard_data = hard_data.add_column('label', [1]*len(easy_data))\n",
    "\n",
    "print(set(easy_data['label']), set(hard_data['label']))"
   ]
  },
  {
   "cell_type": "code",
   "execution_count": 9,
   "metadata": {},
   "outputs": [
    {
     "data": {
      "text/plain": [
       "Dataset({\n",
       "    features: ['question', 'sentence', 'idx', 'label'],\n",
       "    num_rows: 52371\n",
       "})"
      ]
     },
     "execution_count": 9,
     "metadata": {},
     "output_type": "execute_result"
    }
   ],
   "source": [
    "easy_data"
   ]
  },
  {
   "cell_type": "code",
   "execution_count": 14,
   "metadata": {},
   "outputs": [],
   "source": [
    "import random\n",
    "easy_indices = d['easy']\n",
    "random.shuffle(easy_indices)\n",
    "\n",
    "hard_indices = d['hard']\n",
    "random.shuffle(hard_indices)\n",
    "\n",
    "easy_data_train = easy_data.filter(lambda x: x['idx'] in easy_indices[:int(0.7*len(easy_indices))])\n",
    "easy_data_valid = easy_data.filter(lambda x: x['idx'] in easy_indices[int(0.7*len(easy_indices)):])\n",
    "\n",
    "hard_data_train = hard_data.filter(lambda x: x['idx'] in hard_indices[:int(0.7*len(hard_indices))])\n",
    "hard_data_valid = hard_data.filter(lambda x: x['idx'] in hard_indices[int(0.7*len(hard_indices)):])\n",
    "\n",
    "assert len(set(easy_data_train['idx']).intersection(set(easy_data_valid['idx']))) == 0\n",
    "assert len(set(hard_data_train['idx']).intersection(set(hard_data_valid['idx']))) == 0\n"
   ]
  },
  {
   "cell_type": "code",
   "execution_count": 15,
   "metadata": {},
   "outputs": [
    {
     "data": {
      "text/plain": [
       "(Dataset({\n",
       "     features: ['question', 'sentence', 'idx', 'label'],\n",
       "     num_rows: 36659\n",
       " }),\n",
       " Dataset({\n",
       "     features: ['question', 'sentence', 'idx', 'label'],\n",
       "     num_rows: 15712\n",
       " }))"
      ]
     },
     "execution_count": 15,
     "metadata": {},
     "output_type": "execute_result"
    }
   ],
   "source": [
    "easy_data_train, easy_data_valid"
   ]
  },
  {
   "cell_type": "code",
   "execution_count": 16,
   "metadata": {},
   "outputs": [],
   "source": [
    "new_train_set = datasets.concatenate_datasets([easy_data_train, hard_data_train]).shuffle(seed=1)\n",
    "new_valid_set = datasets.concatenate_datasets([easy_data_valid, hard_data_valid]).shuffle(seed=1)"
   ]
  },
  {
   "cell_type": "code",
   "execution_count": 24,
   "metadata": {},
   "outputs": [
    {
     "data": {
      "text/plain": [
       "(Dataset({\n",
       "     features: ['sentence', 'idx', 'label'],\n",
       "     num_rows: 47142\n",
       " }),\n",
       " Dataset({\n",
       "     features: ['sentence', 'idx', 'label'],\n",
       "     num_rows: 20206\n",
       " }))"
      ]
     },
     "execution_count": 24,
     "metadata": {},
     "output_type": "execute_result"
    }
   ],
   "source": [
    "new_train_set, new_valid_set"
   ]
  },
  {
   "cell_type": "code",
   "execution_count": 18,
   "metadata": {},
   "outputs": [
    {
     "data": {
      "application/vnd.jupyter.widget-view+json": {
       "model_id": "c05971f823424364b029e8ee256180b7",
       "version_major": 2,
       "version_minor": 0
      },
      "text/plain": [
       "Creating CSV from Arrow format:   0%|          | 0/8 [00:00<?, ?ba/s]"
      ]
     },
     "metadata": {},
     "output_type": "display_data"
    },
    {
     "data": {
      "application/vnd.jupyter.widget-view+json": {
       "model_id": "71f0a90b0e2047ae80675832114358f9",
       "version_major": 2,
       "version_minor": 0
      },
      "text/plain": [
       "Creating CSV from Arrow format:   0%|          | 0/4 [00:00<?, ?ba/s]"
      ]
     },
     "metadata": {},
     "output_type": "display_data"
    },
    {
     "data": {
      "text/plain": [
       "7585188"
      ]
     },
     "execution_count": 18,
     "metadata": {},
     "output_type": "execute_result"
    }
   ],
   "source": [
    "new_train_set.to_csv(f'datasets/{dataset_name}-easy-hard_train.csv')\n",
    "new_valid_set.to_csv(f'datasets/{dataset_name}-easy-hard_valid.csv')"
   ]
  },
  {
   "cell_type": "code",
   "execution_count": 19,
   "metadata": {},
   "outputs": [
    {
     "name": "stderr",
     "output_type": "stream",
     "text": [
      "Using custom data configuration default-36cdcd5cd5588345\n"
     ]
    },
    {
     "name": "stdout",
     "output_type": "stream",
     "text": [
      "Downloading and preparing dataset csv/default to /home/v-biyangguo/.cache/huggingface/datasets/csv/default-36cdcd5cd5588345/0.0.0/51cce309a08df9c4d82ffd9363bbe090bf173197fc01a71b034e8594995a1a58...\n"
     ]
    },
    {
     "data": {
      "application/vnd.jupyter.widget-view+json": {
       "model_id": "c4658d04212c4dbea9a5635fdf570db2",
       "version_major": 2,
       "version_minor": 0
      },
      "text/plain": [
       "Downloading data files:   0%|          | 0/2 [00:00<?, ?it/s]"
      ]
     },
     "metadata": {},
     "output_type": "display_data"
    },
    {
     "data": {
      "application/vnd.jupyter.widget-view+json": {
       "model_id": "e3e71df6ada143dc8f88adcb8f3b2b92",
       "version_major": 2,
       "version_minor": 0
      },
      "text/plain": [
       "Extracting data files:   0%|          | 0/2 [00:00<?, ?it/s]"
      ]
     },
     "metadata": {},
     "output_type": "display_data"
    },
    {
     "data": {
      "application/vnd.jupyter.widget-view+json": {
       "model_id": "2718b74502ab450fa0dc85252f0054c1",
       "version_major": 2,
       "version_minor": 0
      },
      "text/plain": [
       "0 tables [00:00, ? tables/s]"
      ]
     },
     "metadata": {},
     "output_type": "display_data"
    },
    {
     "data": {
      "application/vnd.jupyter.widget-view+json": {
       "model_id": "d5e53274d1164cbb96086c6e13ad253c",
       "version_major": 2,
       "version_minor": 0
      },
      "text/plain": [
       "0 tables [00:00, ? tables/s]"
      ]
     },
     "metadata": {},
     "output_type": "display_data"
    },
    {
     "name": "stdout",
     "output_type": "stream",
     "text": [
      "Dataset csv downloaded and prepared to /home/v-biyangguo/.cache/huggingface/datasets/csv/default-36cdcd5cd5588345/0.0.0/51cce309a08df9c4d82ffd9363bbe090bf173197fc01a71b034e8594995a1a58. Subsequent calls will reuse this data.\n"
     ]
    },
    {
     "data": {
      "application/vnd.jupyter.widget-view+json": {
       "model_id": "62fe50a754ca40f397b962ebe25bcdcd",
       "version_major": 2,
       "version_minor": 0
      },
      "text/plain": [
       "  0%|          | 0/2 [00:00<?, ?it/s]"
      ]
     },
     "metadata": {},
     "output_type": "display_data"
    },
    {
     "data": {
      "text/plain": [
       "DatasetDict({\n",
       "    train: Dataset({\n",
       "        features: ['Unnamed: 0', 'question', 'sentence', 'idx', 'label'],\n",
       "        num_rows: 73318\n",
       "    })\n",
       "    validation: Dataset({\n",
       "        features: ['Unnamed: 0', 'question', 'sentence', 'idx', 'label'],\n",
       "        num_rows: 31424\n",
       "    })\n",
       "})"
      ]
     },
     "execution_count": 19,
     "metadata": {},
     "output_type": "execute_result"
    }
   ],
   "source": [
    "# 读取\n",
    "from datasets import load_dataset\n",
    "data_files = {}\n",
    "data_files[\"train\"] = f'datasets/{dataset_name}-easy-hard_train.csv'\n",
    "data_files[\"validation\"] = f'datasets/{dataset_name}-easy-hard_valid.csv'\n",
    "extension = 'csv'\n",
    "raw_datasets = load_dataset(extension, data_files=data_files)\n",
    "raw_datasets"
   ]
  },
  {
   "cell_type": "markdown",
   "metadata": {},
   "source": [
    "# Add `confidence` value to the dataset \n",
    "- 需要先跑 `plot.sh` 获得 `td_metrics.jsonl`"
   ]
  },
  {
   "cell_type": "code",
   "execution_count": 1,
   "metadata": {},
   "outputs": [
    {
     "name": "stderr",
     "output_type": "stream",
     "text": [
      "Reusing dataset glue (/home/v-biyangguo/.cache/huggingface/datasets/glue/mnli/1.0.0/dacbe3125aa31d7f70367a07a8a9e72a5a0bfeb5fc42e75c9db75b96da6053ad)\n"
     ]
    },
    {
     "data": {
      "application/vnd.jupyter.widget-view+json": {
       "model_id": "da21d161ac3a4dad8ff93d89c32332f5",
       "version_major": 2,
       "version_minor": 0
      },
      "text/plain": [
       "  0%|          | 0/5 [00:00<?, ?it/s]"
      ]
     },
     "metadata": {},
     "output_type": "display_data"
    }
   ],
   "source": [
    "import datasets\n",
    "from datasets import load_dataset\n",
    "dataset_name = 'mnli'\n",
    "data = load_dataset('glue',dataset_name)"
   ]
  },
  {
   "cell_type": "code",
   "execution_count": 2,
   "metadata": {},
   "outputs": [
    {
     "name": "stdout",
     "output_type": "stream",
     "text": [
      "392702\n"
     ]
    },
    {
     "data": {
      "text/html": [
       "<div>\n",
       "<style scoped>\n",
       "    .dataframe tbody tr th:only-of-type {\n",
       "        vertical-align: middle;\n",
       "    }\n",
       "\n",
       "    .dataframe tbody tr th {\n",
       "        vertical-align: top;\n",
       "    }\n",
       "\n",
       "    .dataframe thead th {\n",
       "        text-align: right;\n",
       "    }\n",
       "</style>\n",
       "<table border=\"1\" class=\"dataframe\">\n",
       "  <thead>\n",
       "    <tr style=\"text-align: right;\">\n",
       "      <th></th>\n",
       "      <th>confidence</th>\n",
       "      <th>correctness</th>\n",
       "      <th>forgetfulness</th>\n",
       "      <th>guid</th>\n",
       "      <th>index</th>\n",
       "      <th>threshold_closeness</th>\n",
       "      <th>variability</th>\n",
       "    </tr>\n",
       "  </thead>\n",
       "  <tbody>\n",
       "    <tr>\n",
       "      <th>0</th>\n",
       "      <td>0.893155</td>\n",
       "      <td>5</td>\n",
       "      <td>0</td>\n",
       "      <td>230221</td>\n",
       "      <td>0</td>\n",
       "      <td>0.095429</td>\n",
       "      <td>0.064330</td>\n",
       "    </tr>\n",
       "    <tr>\n",
       "      <th>1</th>\n",
       "      <td>0.964059</td>\n",
       "      <td>5</td>\n",
       "      <td>0</td>\n",
       "      <td>311491</td>\n",
       "      <td>1</td>\n",
       "      <td>0.034650</td>\n",
       "      <td>0.057841</td>\n",
       "    </tr>\n",
       "    <tr>\n",
       "      <th>2</th>\n",
       "      <td>0.811411</td>\n",
       "      <td>4</td>\n",
       "      <td>0</td>\n",
       "      <td>136053</td>\n",
       "      <td>2</td>\n",
       "      <td>0.153023</td>\n",
       "      <td>0.204956</td>\n",
       "    </tr>\n",
       "    <tr>\n",
       "      <th>3</th>\n",
       "      <td>0.973618</td>\n",
       "      <td>5</td>\n",
       "      <td>0</td>\n",
       "      <td>261643</td>\n",
       "      <td>3</td>\n",
       "      <td>0.025686</td>\n",
       "      <td>0.017616</td>\n",
       "    </tr>\n",
       "    <tr>\n",
       "      <th>4</th>\n",
       "      <td>0.523133</td>\n",
       "      <td>3</td>\n",
       "      <td>1</td>\n",
       "      <td>91797</td>\n",
       "      <td>4</td>\n",
       "      <td>0.249465</td>\n",
       "      <td>0.302278</td>\n",
       "    </tr>\n",
       "  </tbody>\n",
       "</table>\n",
       "</div>"
      ],
      "text/plain": [
       "   confidence  correctness  forgetfulness    guid  index  threshold_closeness  \\\n",
       "0    0.893155            5              0  230221      0             0.095429   \n",
       "1    0.964059            5              0  311491      1             0.034650   \n",
       "2    0.811411            4              0  136053      2             0.153023   \n",
       "3    0.973618            5              0  261643      3             0.025686   \n",
       "4    0.523133            3              1   91797      4             0.249465   \n",
       "\n",
       "   variability  \n",
       "0     0.064330  \n",
       "1     0.057841  \n",
       "2     0.204956  \n",
       "3     0.017616  \n",
       "4     0.302278  "
      ]
     },
     "execution_count": 2,
     "metadata": {},
     "output_type": "execute_result"
    }
   ],
   "source": [
    "import pandas as pd\n",
    "td_df = pd.read_json(f'dy_log/{dataset_name}/bert-base-cased/td_metrics.jsonl', lines=True) # lines=True 是因为你加载的是jsonl文件，每行都是一个dictionary\n",
    "print(len(td_df))\n",
    "td_df.head()"
   ]
  },
  {
   "cell_type": "code",
   "execution_count": 3,
   "metadata": {},
   "outputs": [
    {
     "data": {
      "text/plain": [
       "392702"
      ]
     },
     "execution_count": 3,
     "metadata": {},
     "output_type": "execute_result"
    }
   ],
   "source": [
    "id2conf = {}\n",
    "for guid, conf in zip(list(td_df['guid']), list(td_df['confidence'])):\n",
    "    id2conf[guid] = conf\n",
    "len(id2conf)"
   ]
  },
  {
   "cell_type": "code",
   "execution_count": 4,
   "metadata": {},
   "outputs": [
    {
     "data": {
      "text/plain": [
       "DatasetDict({\n",
       "    train: Dataset({\n",
       "        features: ['premise', 'hypothesis', 'label', 'idx', 'confidence'],\n",
       "        num_rows: 392702\n",
       "    })\n",
       "    validation_matched: Dataset({\n",
       "        features: ['premise', 'hypothesis', 'label', 'idx'],\n",
       "        num_rows: 9815\n",
       "    })\n",
       "    validation_mismatched: Dataset({\n",
       "        features: ['premise', 'hypothesis', 'label', 'idx'],\n",
       "        num_rows: 9832\n",
       "    })\n",
       "    test_matched: Dataset({\n",
       "        features: ['premise', 'hypothesis', 'label', 'idx'],\n",
       "        num_rows: 9796\n",
       "    })\n",
       "    test_mismatched: Dataset({\n",
       "        features: ['premise', 'hypothesis', 'label', 'idx'],\n",
       "        num_rows: 9847\n",
       "    })\n",
       "})"
      ]
     },
     "execution_count": 4,
     "metadata": {},
     "output_type": "execute_result"
    }
   ],
   "source": [
    "train_ids = data['train']['idx']\n",
    "train_conf = [id2conf[id] for id in train_ids]\n",
    "data['train'] = data['train'].add_column('confidence', train_conf)\n",
    "\n",
    "data"
   ]
  },
  {
   "cell_type": "code",
   "execution_count": 5,
   "metadata": {},
   "outputs": [
    {
     "data": {
      "text/plain": [
       "[0.6274152823,\n",
       " 0.964998436,\n",
       " 0.7580023855,\n",
       " 0.9110537529,\n",
       " 0.40590925370000003,\n",
       " 0.9911562085000001,\n",
       " 0.9475771070000001,\n",
       " 0.9816180944,\n",
       " 0.7352770567,\n",
       " 0.9734344363]"
      ]
     },
     "execution_count": 5,
     "metadata": {},
     "output_type": "execute_result"
    }
   ],
   "source": [
    "data['train']['confidence'][:10]"
   ]
  },
  {
   "cell_type": "code",
   "execution_count": 6,
   "metadata": {},
   "outputs": [],
   "source": [
    "data.save_to_disk(f\"datasets/{dataset_name}/with_conf/\")"
   ]
  },
  {
   "cell_type": "code",
   "execution_count": 7,
   "metadata": {},
   "outputs": [
    {
     "data": {
      "text/plain": [
       "DatasetDict({\n",
       "    train: Dataset({\n",
       "        features: ['premise', 'hypothesis', 'label', 'idx', 'confidence'],\n",
       "        num_rows: 392702\n",
       "    })\n",
       "    validation_matched: Dataset({\n",
       "        features: ['premise', 'hypothesis', 'label', 'idx'],\n",
       "        num_rows: 9815\n",
       "    })\n",
       "    validation_mismatched: Dataset({\n",
       "        features: ['premise', 'hypothesis', 'label', 'idx'],\n",
       "        num_rows: 9832\n",
       "    })\n",
       "    test_matched: Dataset({\n",
       "        features: ['premise', 'hypothesis', 'label', 'idx'],\n",
       "        num_rows: 9796\n",
       "    })\n",
       "    test_mismatched: Dataset({\n",
       "        features: ['premise', 'hypothesis', 'label', 'idx'],\n",
       "        num_rows: 9847\n",
       "    })\n",
       "})"
      ]
     },
     "execution_count": 7,
     "metadata": {},
     "output_type": "execute_result"
    }
   ],
   "source": [
    "# 读取\n",
    "from datasets import load_from_disk\n",
    "reloaded_data = load_from_disk(f\"datasets/{dataset_name}/with_conf/\")\n",
    "reloaded_data\n"
   ]
  },
  {
   "cell_type": "code",
   "execution_count": 22,
   "metadata": {},
   "outputs": [
    {
     "data": {
      "text/plain": [
       "['sentence', 'label', 'idx', 'confidence']"
      ]
     },
     "execution_count": 22,
     "metadata": {},
     "output_type": "execute_result"
    }
   ],
   "source": [
    "reloaded_data['train'].column_names"
   ]
  },
  {
   "cell_type": "code",
   "execution_count": null,
   "metadata": {},
   "outputs": [],
   "source": []
  }
 ],
 "metadata": {
  "interpreter": {
   "hash": "98b0a9b7b4eaaa670588a142fd0a9b87eaafe866f1db4228be72b4211d12040f"
  },
  "kernelspec": {
   "display_name": "Python 3.6.10 64-bit ('conda': virtualenv)",
   "name": "python3"
  },
  "language_info": {
   "name": "python",
   "version": ""
  },
  "orig_nbformat": 4
 },
 "nbformat": 4,
 "nbformat_minor": 2
}